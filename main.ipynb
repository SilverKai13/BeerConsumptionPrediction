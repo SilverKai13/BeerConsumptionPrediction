{
 "cells": [
  {
   "cell_type": "markdown",
   "metadata": {},
   "source": [
    "#### Load the data in pandas dataframe\n",
    "\n",
    "#### Display first few rows\n",
    "\n",
    "#### Perform pandas profiling "
   ]
  },
  {
   "cell_type": "code",
   "execution_count": 47,
   "metadata": {},
   "outputs": [],
   "source": [
    "import pandas as pd\n",
    "import matplotlib.pyplot as plt\n",
    "import numpy as np\n",
    "import seaborn as sns\n",
    "\n",
    "from sklearn.model_selection import train_test_split\n",
    "from sklearn.linear_model import LinearRegression\n",
    "from sklearn.metrics import r2_score,mean_absolute_error,mean_squared_error"
   ]
  },
  {
   "cell_type": "code",
   "execution_count": 1,
   "metadata": {},
   "outputs": [
    {
     "data": {
      "text/html": [
       "<div>\n",
       "<style scoped>\n",
       "    .dataframe tbody tr th:only-of-type {\n",
       "        vertical-align: middle;\n",
       "    }\n",
       "\n",
       "    .dataframe tbody tr th {\n",
       "        vertical-align: top;\n",
       "    }\n",
       "\n",
       "    .dataframe thead th {\n",
       "        text-align: right;\n",
       "    }\n",
       "</style>\n",
       "<table border=\"1\" class=\"dataframe\">\n",
       "  <thead>\n",
       "    <tr style=\"text-align: right;\">\n",
       "      <th></th>\n",
       "      <th>Data</th>\n",
       "      <th>Temperatura Media (C)</th>\n",
       "      <th>Temperatura Minima (C)</th>\n",
       "      <th>Temperatura Maxima (C)</th>\n",
       "      <th>Precipitacao (mm)</th>\n",
       "      <th>Final de Semana</th>\n",
       "      <th>Consumo de cerveja (litros)</th>\n",
       "    </tr>\n",
       "  </thead>\n",
       "  <tbody>\n",
       "    <tr>\n",
       "      <th>0</th>\n",
       "      <td>2015-01-01</td>\n",
       "      <td>27,3</td>\n",
       "      <td>23,9</td>\n",
       "      <td>32,5</td>\n",
       "      <td>0</td>\n",
       "      <td>0.0</td>\n",
       "      <td>25.461</td>\n",
       "    </tr>\n",
       "    <tr>\n",
       "      <th>1</th>\n",
       "      <td>2015-01-02</td>\n",
       "      <td>27,02</td>\n",
       "      <td>24,5</td>\n",
       "      <td>33,5</td>\n",
       "      <td>0</td>\n",
       "      <td>0.0</td>\n",
       "      <td>28.972</td>\n",
       "    </tr>\n",
       "    <tr>\n",
       "      <th>2</th>\n",
       "      <td>2015-01-03</td>\n",
       "      <td>24,82</td>\n",
       "      <td>22,4</td>\n",
       "      <td>29,9</td>\n",
       "      <td>0</td>\n",
       "      <td>1.0</td>\n",
       "      <td>30.814</td>\n",
       "    </tr>\n",
       "    <tr>\n",
       "      <th>3</th>\n",
       "      <td>2015-01-04</td>\n",
       "      <td>23,98</td>\n",
       "      <td>21,5</td>\n",
       "      <td>28,6</td>\n",
       "      <td>1,2</td>\n",
       "      <td>1.0</td>\n",
       "      <td>29.799</td>\n",
       "    </tr>\n",
       "    <tr>\n",
       "      <th>4</th>\n",
       "      <td>2015-01-05</td>\n",
       "      <td>23,82</td>\n",
       "      <td>21</td>\n",
       "      <td>28,3</td>\n",
       "      <td>0</td>\n",
       "      <td>0.0</td>\n",
       "      <td>28.900</td>\n",
       "    </tr>\n",
       "  </tbody>\n",
       "</table>\n",
       "</div>"
      ],
      "text/plain": [
       "         Data Temperatura Media (C) Temperatura Minima (C)  \\\n",
       "0  2015-01-01                  27,3                   23,9   \n",
       "1  2015-01-02                 27,02                   24,5   \n",
       "2  2015-01-03                 24,82                   22,4   \n",
       "3  2015-01-04                 23,98                   21,5   \n",
       "4  2015-01-05                 23,82                     21   \n",
       "\n",
       "  Temperatura Maxima (C) Precipitacao (mm)  Final de Semana  \\\n",
       "0                   32,5                 0              0.0   \n",
       "1                   33,5                 0              0.0   \n",
       "2                   29,9                 0              1.0   \n",
       "3                   28,6               1,2              1.0   \n",
       "4                   28,3                 0              0.0   \n",
       "\n",
       "   Consumo de cerveja (litros)  \n",
       "0                       25.461  \n",
       "1                       28.972  \n",
       "2                       30.814  \n",
       "3                       29.799  \n",
       "4                       28.900  "
      ]
     },
     "execution_count": 1,
     "metadata": {},
     "output_type": "execute_result"
    }
   ],
   "source": [
    "df=pd.read_csv('Consumo_cerveja.csv')\n",
    "\n",
    "df.head()"
   ]
  },
  {
   "cell_type": "code",
   "execution_count": 4,
   "metadata": {},
   "outputs": [
    {
     "name": "stdout",
     "output_type": "stream",
     "text": [
      "Requirement already satisfied: markupsafe==2.0.1 in c:\\users\\91979\\anaconda3\\lib\\site-packages (2.0.1)\n",
      "Note: you may need to restart the kernel to use updated packages.\n"
     ]
    }
   ],
   "source": [
    "pip install --user markupsafe==2.0.1\n",
    "\n",
    "#this is the stable version of markupsafe. needs to be downgraded to this version in order to be compatible with sweetviz. you also might need user permission hence use the --user ."
   ]
  },
  {
   "cell_type": "code",
   "execution_count": 11,
   "metadata": {},
   "outputs": [
    {
     "name": "stdout",
     "output_type": "stream",
     "text": [
      "Collecting sweetviz\n",
      "  Downloading sweetviz-2.1.4-py3-none-any.whl (15.1 MB)\n",
      "Requirement already satisfied: matplotlib>=3.1.3 in c:\\users\\91979\\anaconda3\\lib\\site-packages (from sweetviz) (3.3.4)\n",
      "Requirement already satisfied: numpy>=1.16.0 in c:\\users\\91979\\anaconda3\\lib\\site-packages (from sweetviz) (1.21.5)\n",
      "Collecting importlib-resources>=1.2.0\n",
      "  Downloading importlib_resources-5.8.0-py3-none-any.whl (28 kB)\n",
      "Requirement already satisfied: pandas!=1.0.0,!=1.0.1,!=1.0.2,>=0.25.3 in c:\\users\\91979\\appdata\\roaming\\python\\python38\\site-packages (from sweetviz) (1.4.0)\n",
      "Requirement already satisfied: scipy>=1.3.2 in c:\\users\\91979\\anaconda3\\lib\\site-packages (from sweetviz) (1.6.2)\n",
      "Requirement already satisfied: tqdm>=4.43.0 in c:\\users\\91979\\anaconda3\\lib\\site-packages (from sweetviz) (4.59.0)\n",
      "Requirement already satisfied: jinja2>=2.11.1 in c:\\users\\91979\\anaconda3\\lib\\site-packages (from sweetviz) (2.11.3)\n",
      "Requirement already satisfied: zipp>=3.1.0 in c:\\users\\91979\\anaconda3\\lib\\site-packages (from importlib-resources>=1.2.0->sweetviz) (3.4.1)\n",
      "Requirement already satisfied: MarkupSafe>=0.23 in c:\\users\\91979\\anaconda3\\lib\\site-packages (from jinja2>=2.11.1->sweetviz) (2.1.1)\n",
      "Requirement already satisfied: pyparsing!=2.0.4,!=2.1.2,!=2.1.6,>=2.0.3 in c:\\users\\91979\\anaconda3\\lib\\site-packages (from matplotlib>=3.1.3->sweetviz) (2.4.7)\n",
      "Requirement already satisfied: pillow>=6.2.0 in c:\\users\\91979\\anaconda3\\lib\\site-packages (from matplotlib>=3.1.3->sweetviz) (8.2.0)\n",
      "Requirement already satisfied: python-dateutil>=2.1 in c:\\users\\91979\\anaconda3\\lib\\site-packages (from matplotlib>=3.1.3->sweetviz) (2.8.1)\n",
      "Requirement already satisfied: cycler>=0.10 in c:\\users\\91979\\anaconda3\\lib\\site-packages (from matplotlib>=3.1.3->sweetviz) (0.10.0)\n",
      "Requirement already satisfied: kiwisolver>=1.0.1 in c:\\users\\91979\\anaconda3\\lib\\site-packages (from matplotlib>=3.1.3->sweetviz) (1.3.1)\n",
      "Requirement already satisfied: six in c:\\users\\91979\\anaconda3\\lib\\site-packages (from cycler>=0.10->matplotlib>=3.1.3->sweetviz) (1.15.0)\n",
      "Requirement already satisfied: pytz>=2020.1 in c:\\users\\91979\\anaconda3\\lib\\site-packages (from pandas!=1.0.0,!=1.0.1,!=1.0.2,>=0.25.3->sweetviz) (2021.1)\n",
      "Installing collected packages: importlib-resources, sweetviz\n",
      "Successfully installed importlib-resources-5.8.0 sweetviz-2.1.4\n",
      "Note: you may need to restart the kernel to use updated packages.\n"
     ]
    }
   ],
   "source": [
    "pip install sweetviz"
   ]
  },
  {
   "cell_type": "code",
   "execution_count": 2,
   "metadata": {},
   "outputs": [
    {
     "name": "stderr",
     "output_type": "stream",
     "text": [
      "Done! Use 'show' commands to display/save.   |██████████| [100%]   00:00 -> (00:00 left)\n"
     ]
    },
    {
     "name": "stdout",
     "output_type": "stream",
     "text": [
      "Report SWEETVIZ_REPORT.html was generated! NOTEBOOK/COLAB USERS: the web browser MAY not pop up, regardless, the report IS saved in your notebook/colab files.\n"
     ]
    }
   ],
   "source": [
    "import sweetviz as sv\n",
    "#You could specify which variable in your dataset is the target for your model creation. We can specify it using the target_feat parameter.\n",
    "my_report = sv.analyze(df)\n",
    "my_report.show_html()"
   ]
  },
  {
   "cell_type": "markdown",
   "metadata": {},
   "source": [
    "As the data is not in proper format. We need to rectify this data by replacing ',' with '.' "
   ]
  },
  {
   "cell_type": "code",
   "execution_count": 3,
   "metadata": {},
   "outputs": [
    {
     "data": {
      "text/html": [
       "<div>\n",
       "<style scoped>\n",
       "    .dataframe tbody tr th:only-of-type {\n",
       "        vertical-align: middle;\n",
       "    }\n",
       "\n",
       "    .dataframe tbody tr th {\n",
       "        vertical-align: top;\n",
       "    }\n",
       "\n",
       "    .dataframe thead th {\n",
       "        text-align: right;\n",
       "    }\n",
       "</style>\n",
       "<table border=\"1\" class=\"dataframe\">\n",
       "  <thead>\n",
       "    <tr style=\"text-align: right;\">\n",
       "      <th></th>\n",
       "      <th>Data</th>\n",
       "      <th>Temperatura Media (C)</th>\n",
       "      <th>Temperatura Minima (C)</th>\n",
       "      <th>Temperatura Maxima (C)</th>\n",
       "      <th>Precipitacao (mm)</th>\n",
       "      <th>Final de Semana</th>\n",
       "      <th>Consumo de cerveja (litros)</th>\n",
       "    </tr>\n",
       "  </thead>\n",
       "  <tbody>\n",
       "    <tr>\n",
       "      <th>0</th>\n",
       "      <td>2015-01-01</td>\n",
       "      <td>27.3</td>\n",
       "      <td>23.9</td>\n",
       "      <td>32.5</td>\n",
       "      <td>0</td>\n",
       "      <td>0.0</td>\n",
       "      <td>25.461</td>\n",
       "    </tr>\n",
       "    <tr>\n",
       "      <th>1</th>\n",
       "      <td>2015-01-02</td>\n",
       "      <td>27.02</td>\n",
       "      <td>24.5</td>\n",
       "      <td>33.5</td>\n",
       "      <td>0</td>\n",
       "      <td>0.0</td>\n",
       "      <td>28.972</td>\n",
       "    </tr>\n",
       "    <tr>\n",
       "      <th>2</th>\n",
       "      <td>2015-01-03</td>\n",
       "      <td>24.82</td>\n",
       "      <td>22.4</td>\n",
       "      <td>29.9</td>\n",
       "      <td>0</td>\n",
       "      <td>1.0</td>\n",
       "      <td>30.814</td>\n",
       "    </tr>\n",
       "    <tr>\n",
       "      <th>3</th>\n",
       "      <td>2015-01-04</td>\n",
       "      <td>23.98</td>\n",
       "      <td>21.5</td>\n",
       "      <td>28.6</td>\n",
       "      <td>1.2</td>\n",
       "      <td>1.0</td>\n",
       "      <td>29.799</td>\n",
       "    </tr>\n",
       "    <tr>\n",
       "      <th>4</th>\n",
       "      <td>2015-01-05</td>\n",
       "      <td>23.82</td>\n",
       "      <td>21</td>\n",
       "      <td>28.3</td>\n",
       "      <td>0</td>\n",
       "      <td>0.0</td>\n",
       "      <td>28.900</td>\n",
       "    </tr>\n",
       "  </tbody>\n",
       "</table>\n",
       "</div>"
      ],
      "text/plain": [
       "         Data Temperatura Media (C) Temperatura Minima (C)  \\\n",
       "0  2015-01-01                  27.3                   23.9   \n",
       "1  2015-01-02                 27.02                   24.5   \n",
       "2  2015-01-03                 24.82                   22.4   \n",
       "3  2015-01-04                 23.98                   21.5   \n",
       "4  2015-01-05                 23.82                     21   \n",
       "\n",
       "  Temperatura Maxima (C) Precipitacao (mm)  Final de Semana  \\\n",
       "0                   32.5                 0              0.0   \n",
       "1                   33.5                 0              0.0   \n",
       "2                   29.9                 0              1.0   \n",
       "3                   28.6               1.2              1.0   \n",
       "4                   28.3                 0              0.0   \n",
       "\n",
       "   Consumo de cerveja (litros)  \n",
       "0                       25.461  \n",
       "1                       28.972  \n",
       "2                       30.814  \n",
       "3                       29.799  \n",
       "4                       28.900  "
      ]
     },
     "execution_count": 3,
     "metadata": {},
     "output_type": "execute_result"
    }
   ],
   "source": [
    "df['Temperatura Media (C)']=df['Temperatura Media (C)'].str.replace(',','.')\n",
    "df['Temperatura Minima (C)']=df['Temperatura Minima (C)'].str.replace(',','.')\n",
    "df['Temperatura Maxima (C)']=df['Temperatura Maxima (C)'].str.replace(',','.')\n",
    "df['Precipitacao (mm)']=df['Precipitacao (mm)'].str.replace(',','.')\n",
    "df.head()"
   ]
  },
  {
   "cell_type": "code",
   "execution_count": 4,
   "metadata": {},
   "outputs": [],
   "source": [
    "#next we are gonna build some new features around the datasets.\n",
    "#creating new feature 'Month', 'Day', from the dates consisting of the month of the year and day of the week respectively\n",
    "#Then we set 'Data' Column as indexes"
   ]
  },
  {
   "cell_type": "code",
   "execution_count": 7,
   "metadata": {},
   "outputs": [],
   "source": [
    "\n",
    "df['Data']=pd.to_datetime(df['Data'],errors='coerce')\n",
    "\n",
    "#this is done to avoid attribute error. AttributeError: Can only use .dt accessor with datetimelike values.\n",
    "# why this has happened is because to_datetime silently failed so the dtype remained as str/object,\n",
    "# if you set param errors='coerce' then if the conversion fails for any particular string then those rows are set to NaT."
   ]
  },
  {
   "cell_type": "code",
   "execution_count": 8,
   "metadata": {},
   "outputs": [],
   "source": [
    "df['Month']=df.Data.dt.month\n",
    "df['Day']=df.Data.dt.dayofweek"
   ]
  },
  {
   "cell_type": "code",
   "execution_count": 9,
   "metadata": {},
   "outputs": [
    {
     "data": {
      "text/html": [
       "<div>\n",
       "<style scoped>\n",
       "    .dataframe tbody tr th:only-of-type {\n",
       "        vertical-align: middle;\n",
       "    }\n",
       "\n",
       "    .dataframe tbody tr th {\n",
       "        vertical-align: top;\n",
       "    }\n",
       "\n",
       "    .dataframe thead th {\n",
       "        text-align: right;\n",
       "    }\n",
       "</style>\n",
       "<table border=\"1\" class=\"dataframe\">\n",
       "  <thead>\n",
       "    <tr style=\"text-align: right;\">\n",
       "      <th></th>\n",
       "      <th>Data</th>\n",
       "      <th>Temperatura Media (C)</th>\n",
       "      <th>Temperatura Minima (C)</th>\n",
       "      <th>Temperatura Maxima (C)</th>\n",
       "      <th>Precipitacao (mm)</th>\n",
       "      <th>Final de Semana</th>\n",
       "      <th>Consumo de cerveja (litros)</th>\n",
       "      <th>Month</th>\n",
       "      <th>Day</th>\n",
       "    </tr>\n",
       "  </thead>\n",
       "  <tbody>\n",
       "    <tr>\n",
       "      <th>335</th>\n",
       "      <td>2015-12-02</td>\n",
       "      <td>22.1</td>\n",
       "      <td>18.2</td>\n",
       "      <td>29.4</td>\n",
       "      <td>0</td>\n",
       "      <td>0.0</td>\n",
       "      <td>30.471</td>\n",
       "      <td>12.0</td>\n",
       "      <td>2.0</td>\n",
       "    </tr>\n",
       "    <tr>\n",
       "      <th>336</th>\n",
       "      <td>2015-12-03</td>\n",
       "      <td>22.44</td>\n",
       "      <td>20.2</td>\n",
       "      <td>26.1</td>\n",
       "      <td>0</td>\n",
       "      <td>0.0</td>\n",
       "      <td>28.405</td>\n",
       "      <td>12.0</td>\n",
       "      <td>3.0</td>\n",
       "    </tr>\n",
       "    <tr>\n",
       "      <th>337</th>\n",
       "      <td>2015-12-04</td>\n",
       "      <td>22.76</td>\n",
       "      <td>19</td>\n",
       "      <td>29.1</td>\n",
       "      <td>0</td>\n",
       "      <td>0.0</td>\n",
       "      <td>29.513</td>\n",
       "      <td>12.0</td>\n",
       "      <td>4.0</td>\n",
       "    </tr>\n",
       "    <tr>\n",
       "      <th>338</th>\n",
       "      <td>2015-12-05</td>\n",
       "      <td>24.8</td>\n",
       "      <td>19.5</td>\n",
       "      <td>30.6</td>\n",
       "      <td>0.1</td>\n",
       "      <td>1.0</td>\n",
       "      <td>32.451</td>\n",
       "      <td>12.0</td>\n",
       "      <td>5.0</td>\n",
       "    </tr>\n",
       "    <tr>\n",
       "      <th>339</th>\n",
       "      <td>2015-12-06</td>\n",
       "      <td>23.12</td>\n",
       "      <td>20.6</td>\n",
       "      <td>28</td>\n",
       "      <td>0.1</td>\n",
       "      <td>1.0</td>\n",
       "      <td>32.780</td>\n",
       "      <td>12.0</td>\n",
       "      <td>6.0</td>\n",
       "    </tr>\n",
       "    <tr>\n",
       "      <th>340</th>\n",
       "      <td>2015-12-07</td>\n",
       "      <td>20.04</td>\n",
       "      <td>18</td>\n",
       "      <td>23.9</td>\n",
       "      <td>47.8</td>\n",
       "      <td>0.0</td>\n",
       "      <td>23.375</td>\n",
       "      <td>12.0</td>\n",
       "      <td>0.0</td>\n",
       "    </tr>\n",
       "  </tbody>\n",
       "</table>\n",
       "</div>"
      ],
      "text/plain": [
       "          Data Temperatura Media (C) Temperatura Minima (C)  \\\n",
       "335 2015-12-02                  22.1                   18.2   \n",
       "336 2015-12-03                 22.44                   20.2   \n",
       "337 2015-12-04                 22.76                     19   \n",
       "338 2015-12-05                  24.8                   19.5   \n",
       "339 2015-12-06                 23.12                   20.6   \n",
       "340 2015-12-07                 20.04                     18   \n",
       "\n",
       "    Temperatura Maxima (C) Precipitacao (mm)  Final de Semana  \\\n",
       "335                   29.4                 0              0.0   \n",
       "336                   26.1                 0              0.0   \n",
       "337                   29.1                 0              0.0   \n",
       "338                   30.6               0.1              1.0   \n",
       "339                     28               0.1              1.0   \n",
       "340                   23.9              47.8              0.0   \n",
       "\n",
       "     Consumo de cerveja (litros)  Month  Day  \n",
       "335                       30.471   12.0  2.0  \n",
       "336                       28.405   12.0  3.0  \n",
       "337                       29.513   12.0  4.0  \n",
       "338                       32.451   12.0  5.0  \n",
       "339                       32.780   12.0  6.0  \n",
       "340                       23.375   12.0  0.0  "
      ]
     },
     "execution_count": 9,
     "metadata": {},
     "output_type": "execute_result"
    }
   ],
   "source": [
    "df.iloc[335:341]"
   ]
  },
  {
   "cell_type": "code",
   "execution_count": 10,
   "metadata": {},
   "outputs": [],
   "source": [
    "df.set_index('Data',inplace=True)"
   ]
  },
  {
   "cell_type": "code",
   "execution_count": 15,
   "metadata": {},
   "outputs": [
    {
     "name": "stdout",
     "output_type": "stream",
     "text": [
      "Temperatura Media (C)          576\n",
      "Temperatura Minima (C)         576\n",
      "Temperatura Maxima (C)         576\n",
      "Precipitacao (mm)              576\n",
      "Final de Semana                576\n",
      "Consumo de cerveja (litros)    576\n",
      "Month                          576\n",
      "Day                            576\n",
      "dtype: int64\n",
      "Dataset shape is : (941, 8)\n"
     ]
    }
   ],
   "source": [
    "#next we need to handle the null values and also check for duplicates\n",
    "print(df.isnull().sum())\n",
    "print('Dataset shape is :',df.shape)"
   ]
  },
  {
   "cell_type": "code",
   "execution_count": 16,
   "metadata": {},
   "outputs": [
    {
     "data": {
      "text/plain": [
       "576"
      ]
     },
     "execution_count": 16,
     "metadata": {},
     "output_type": "execute_result"
    }
   ],
   "source": [
    "#next we check the number of row which have null values in all columns\n",
    "\n",
    "df.isnull().all(axis=1).sum()"
   ]
  },
  {
   "cell_type": "markdown",
   "metadata": {},
   "source": [
    "As we can see 576 instances have null values in all columns so we are going to drop those rows"
   ]
  },
  {
   "cell_type": "code",
   "execution_count": 17,
   "metadata": {},
   "outputs": [
    {
     "data": {
      "text/plain": [
       "(365, 8)"
      ]
     },
     "execution_count": 17,
     "metadata": {},
     "output_type": "execute_result"
    }
   ],
   "source": [
    "df.dropna(how='all',inplace=True)\n",
    "df.shape"
   ]
  },
  {
   "cell_type": "code",
   "execution_count": 18,
   "metadata": {},
   "outputs": [
    {
     "data": {
      "text/plain": [
       "Temperatura Media (C)          0\n",
       "Temperatura Minima (C)         0\n",
       "Temperatura Maxima (C)         0\n",
       "Precipitacao (mm)              0\n",
       "Final de Semana                0\n",
       "Consumo de cerveja (litros)    0\n",
       "Month                          0\n",
       "Day                            0\n",
       "dtype: int64"
      ]
     },
     "execution_count": 18,
     "metadata": {},
     "output_type": "execute_result"
    }
   ],
   "source": [
    "df.isnull().sum()"
   ]
  },
  {
   "cell_type": "markdown",
   "metadata": {},
   "source": [
    "Now we can see that there are no null values"
   ]
  },
  {
   "cell_type": "code",
   "execution_count": 19,
   "metadata": {},
   "outputs": [
    {
     "name": "stdout",
     "output_type": "stream",
     "text": [
      "There are no duplicates\n"
     ]
    }
   ],
   "source": [
    "#checking for duplicates\n",
    "\n",
    "if df.duplicated().any():\n",
    "    print('There are duplicates')\n",
    "else:\n",
    "    print('There are no duplicates')\n"
   ]
  },
  {
   "cell_type": "markdown",
   "metadata": {},
   "source": [
    "Now we handle data types of each features. Converting them to appropriate data types "
   ]
  },
  {
   "cell_type": "code",
   "execution_count": 20,
   "metadata": {},
   "outputs": [
    {
     "name": "stdout",
     "output_type": "stream",
     "text": [
      "<class 'pandas.core.frame.DataFrame'>\n",
      "DatetimeIndex: 365 entries, 2015-01-01 to 2015-12-31\n",
      "Data columns (total 8 columns):\n",
      " #   Column                       Non-Null Count  Dtype  \n",
      "---  ------                       --------------  -----  \n",
      " 0   Temperatura Media (C)        365 non-null    object \n",
      " 1   Temperatura Minima (C)       365 non-null    object \n",
      " 2   Temperatura Maxima (C)       365 non-null    object \n",
      " 3   Precipitacao (mm)            365 non-null    object \n",
      " 4   Final de Semana              365 non-null    float64\n",
      " 5   Consumo de cerveja (litros)  365 non-null    float64\n",
      " 6   Month                        365 non-null    float64\n",
      " 7   Day                          365 non-null    float64\n",
      "dtypes: float64(4), object(4)\n",
      "memory usage: 25.7+ KB\n"
     ]
    }
   ],
   "source": [
    "df.info()"
   ]
  },
  {
   "cell_type": "code",
   "execution_count": 21,
   "metadata": {},
   "outputs": [],
   "source": [
    "df['Temperatura Media (C)']=df['Temperatura Media (C)'].astype(float)\n",
    "df['Temperatura Minima (C)']=df['Temperatura Minima (C)'].astype(float)\n",
    "df['Temperatura Maxima (C)']=df['Temperatura Maxima (C)'].astype(float)\n",
    "df['Precipitacao (mm)']=df['Precipitacao (mm)'].astype(float)\n",
    "\n",
    "#final de semana is categorical hence it has to be interger type\n",
    "df['Final de Semana']=df['Final de Semana'].astype(int)"
   ]
  },
  {
   "cell_type": "code",
   "execution_count": 22,
   "metadata": {},
   "outputs": [
    {
     "name": "stdout",
     "output_type": "stream",
     "text": [
      "<class 'pandas.core.frame.DataFrame'>\n",
      "DatetimeIndex: 365 entries, 2015-01-01 to 2015-12-31\n",
      "Data columns (total 8 columns):\n",
      " #   Column                       Non-Null Count  Dtype  \n",
      "---  ------                       --------------  -----  \n",
      " 0   Temperatura Media (C)        365 non-null    float64\n",
      " 1   Temperatura Minima (C)       365 non-null    float64\n",
      " 2   Temperatura Maxima (C)       365 non-null    float64\n",
      " 3   Precipitacao (mm)            365 non-null    float64\n",
      " 4   Final de Semana              365 non-null    int32  \n",
      " 5   Consumo de cerveja (litros)  365 non-null    float64\n",
      " 6   Month                        365 non-null    float64\n",
      " 7   Day                          365 non-null    float64\n",
      "dtypes: float64(7), int32(1)\n",
      "memory usage: 24.2 KB\n"
     ]
    }
   ],
   "source": [
    "df.info()"
   ]
  },
  {
   "cell_type": "code",
   "execution_count": 24,
   "metadata": {},
   "outputs": [
    {
     "data": {
      "text/html": [
       "<div>\n",
       "<style scoped>\n",
       "    .dataframe tbody tr th:only-of-type {\n",
       "        vertical-align: middle;\n",
       "    }\n",
       "\n",
       "    .dataframe tbody tr th {\n",
       "        vertical-align: top;\n",
       "    }\n",
       "\n",
       "    .dataframe thead th {\n",
       "        text-align: right;\n",
       "    }\n",
       "</style>\n",
       "<table border=\"1\" class=\"dataframe\">\n",
       "  <thead>\n",
       "    <tr style=\"text-align: right;\">\n",
       "      <th></th>\n",
       "      <th>Temperatura Media (C)</th>\n",
       "      <th>Temperatura Minima (C)</th>\n",
       "      <th>Temperatura Maxima (C)</th>\n",
       "      <th>Precipitacao (mm)</th>\n",
       "      <th>Final de Semana</th>\n",
       "      <th>Consumo de cerveja (litros)</th>\n",
       "      <th>Month</th>\n",
       "      <th>Day</th>\n",
       "    </tr>\n",
       "  </thead>\n",
       "  <tbody>\n",
       "    <tr>\n",
       "      <th>count</th>\n",
       "      <td>365.000000</td>\n",
       "      <td>365.000000</td>\n",
       "      <td>365.000000</td>\n",
       "      <td>365.000000</td>\n",
       "      <td>365.000000</td>\n",
       "      <td>365.000000</td>\n",
       "      <td>365.000000</td>\n",
       "      <td>365.0</td>\n",
       "    </tr>\n",
       "    <tr>\n",
       "      <th>mean</th>\n",
       "      <td>21.226356</td>\n",
       "      <td>17.461370</td>\n",
       "      <td>26.611507</td>\n",
       "      <td>5.196712</td>\n",
       "      <td>0.284932</td>\n",
       "      <td>25.401367</td>\n",
       "      <td>6.526027</td>\n",
       "      <td>3.0</td>\n",
       "    </tr>\n",
       "    <tr>\n",
       "      <th>std</th>\n",
       "      <td>3.180108</td>\n",
       "      <td>2.826185</td>\n",
       "      <td>4.317366</td>\n",
       "      <td>12.417844</td>\n",
       "      <td>0.452001</td>\n",
       "      <td>4.399143</td>\n",
       "      <td>3.452584</td>\n",
       "      <td>2.0</td>\n",
       "    </tr>\n",
       "    <tr>\n",
       "      <th>min</th>\n",
       "      <td>12.900000</td>\n",
       "      <td>10.600000</td>\n",
       "      <td>14.500000</td>\n",
       "      <td>0.000000</td>\n",
       "      <td>0.000000</td>\n",
       "      <td>14.343000</td>\n",
       "      <td>1.000000</td>\n",
       "      <td>0.0</td>\n",
       "    </tr>\n",
       "    <tr>\n",
       "      <th>25%</th>\n",
       "      <td>19.020000</td>\n",
       "      <td>15.300000</td>\n",
       "      <td>23.800000</td>\n",
       "      <td>0.000000</td>\n",
       "      <td>0.000000</td>\n",
       "      <td>22.008000</td>\n",
       "      <td>4.000000</td>\n",
       "      <td>1.0</td>\n",
       "    </tr>\n",
       "    <tr>\n",
       "      <th>50%</th>\n",
       "      <td>21.380000</td>\n",
       "      <td>17.900000</td>\n",
       "      <td>26.900000</td>\n",
       "      <td>0.000000</td>\n",
       "      <td>0.000000</td>\n",
       "      <td>24.867000</td>\n",
       "      <td>7.000000</td>\n",
       "      <td>3.0</td>\n",
       "    </tr>\n",
       "    <tr>\n",
       "      <th>75%</th>\n",
       "      <td>23.280000</td>\n",
       "      <td>19.600000</td>\n",
       "      <td>29.400000</td>\n",
       "      <td>3.200000</td>\n",
       "      <td>1.000000</td>\n",
       "      <td>28.631000</td>\n",
       "      <td>10.000000</td>\n",
       "      <td>5.0</td>\n",
       "    </tr>\n",
       "    <tr>\n",
       "      <th>max</th>\n",
       "      <td>28.860000</td>\n",
       "      <td>24.500000</td>\n",
       "      <td>36.500000</td>\n",
       "      <td>94.800000</td>\n",
       "      <td>1.000000</td>\n",
       "      <td>37.937000</td>\n",
       "      <td>12.000000</td>\n",
       "      <td>6.0</td>\n",
       "    </tr>\n",
       "  </tbody>\n",
       "</table>\n",
       "</div>"
      ],
      "text/plain": [
       "       Temperatura Media (C)  Temperatura Minima (C)  Temperatura Maxima (C)  \\\n",
       "count             365.000000              365.000000              365.000000   \n",
       "mean               21.226356               17.461370               26.611507   \n",
       "std                 3.180108                2.826185                4.317366   \n",
       "min                12.900000               10.600000               14.500000   \n",
       "25%                19.020000               15.300000               23.800000   \n",
       "50%                21.380000               17.900000               26.900000   \n",
       "75%                23.280000               19.600000               29.400000   \n",
       "max                28.860000               24.500000               36.500000   \n",
       "\n",
       "       Precipitacao (mm)  Final de Semana  Consumo de cerveja (litros)  \\\n",
       "count         365.000000       365.000000                   365.000000   \n",
       "mean            5.196712         0.284932                    25.401367   \n",
       "std            12.417844         0.452001                     4.399143   \n",
       "min             0.000000         0.000000                    14.343000   \n",
       "25%             0.000000         0.000000                    22.008000   \n",
       "50%             0.000000         0.000000                    24.867000   \n",
       "75%             3.200000         1.000000                    28.631000   \n",
       "max            94.800000         1.000000                    37.937000   \n",
       "\n",
       "            Month    Day  \n",
       "count  365.000000  365.0  \n",
       "mean     6.526027    3.0  \n",
       "std      3.452584    2.0  \n",
       "min      1.000000    0.0  \n",
       "25%      4.000000    1.0  \n",
       "50%      7.000000    3.0  \n",
       "75%     10.000000    5.0  \n",
       "max     12.000000    6.0  "
      ]
     },
     "execution_count": 24,
     "metadata": {},
     "output_type": "execute_result"
    }
   ],
   "source": [
    "df.describe()"
   ]
  },
  {
   "cell_type": "code",
   "execution_count": 29,
   "metadata": {},
   "outputs": [
    {
     "data": {
      "image/png": "[encoded data removed]",
      "text/plain": [
       "<Figure size 1500x2000 with 1 Axes>"
      ]
     },
     "metadata": {},
     "output_type": "display_data"
    }
   ],
   "source": [
    "df.boxplot(figsize=(15,20))\n",
    "plt.show()"
   ]
  },
  {
   "cell_type": "markdown",
   "metadata": {},
   "source": [
    "Column 'Precioiacao' seems to have lots of outliers. Let's try to understand this using the distribution of the data"
   ]
  },
  {
   "cell_type": "code",
   "execution_count": 33,
   "metadata": {},
   "outputs": [
    {
     "data": {
      "image/png": "[encoded data removed]",
      "text/plain": [
       "<Figure size 1500x1000 with 1 Axes>"
      ]
     },
     "metadata": {},
     "output_type": "display_data"
    }
   ],
   "source": [
    "df['Precipitacao (mm)'].hist(bins=100,figsize=(15,10))\n",
    "plt.show()"
   ]
  },
  {
   "cell_type": "code",
   "execution_count": 35,
   "metadata": {},
   "outputs": [
    {
     "data": {
      "text/plain": [
       "0.0    218\n",
       "Name: Precipitacao (mm), dtype: int64"
      ]
     },
     "execution_count": 35,
     "metadata": {},
     "output_type": "execute_result"
    }
   ],
   "source": [
    "df['Precipitacao (mm)'][df['Precipitacao (mm)']==0].value_counts()"
   ]
  },
  {
   "cell_type": "markdown",
   "metadata": {},
   "source": [
    "We can see out of 365, 218 values are 0\n",
    "\n",
    "We can see how the data is largely skewed, thus having so many outliers. It can also be possible that the values with 0 percipiation are the instance where percipitation are not recorded. Let's clip all the values over 40 in column 'Precipiacao (mm)' to 40"
   ]
  },
  {
   "cell_type": "code",
   "execution_count": 37,
   "metadata": {},
   "outputs": [],
   "source": [
    "df['Precipitacao (mm)']=np.clip(df['Precipitacao (mm)'],0,40)"
   ]
  },
  {
   "cell_type": "code",
   "execution_count": 41,
   "metadata": {},
   "outputs": [
    {
     "data": {
      "text/plain": [
       "<AxesSubplot:>"
      ]
     },
     "execution_count": 41,
     "metadata": {},
     "output_type": "execute_result"
    },
    {
     "data": {
      "image/png": "[encoded data removed]",
      "text/plain": [
       "<Figure size 600x400 with 2 Axes>"
      ]
     },
     "metadata": {},
     "output_type": "display_data"
    }
   ],
   "source": [
    "#we calculate the correlation between features\n",
    "correlation = df.corr()\n",
    "sns.heatmap(correlation,annot=True)"
   ]
  },
  {
   "cell_type": "markdown",
   "metadata": {},
   "source": [
    "All the features are showing high correlation with the output feature except 'Month' feature. In case of 'Precipitao (mm)' feature, which\n",
    "has lots of values as 0, still it is showing quite good correlation, so we will keep it. "
   ]
  },
  {
   "cell_type": "code",
   "execution_count": 44,
   "metadata": {},
   "outputs": [
    {
     "name": "stdout",
     "output_type": "stream",
     "text": [
      "(273, 7)\n",
      "(92, 7)\n",
      "(273,)\n",
      "(92,)\n"
     ]
    }
   ],
   "source": [
    "#now we split the data to train and validate\n",
    "\n",
    "x=df.drop(columns=['Consumo de cerveja (litros)'],axis=1)\n",
    "y=df['Consumo de cerveja (litros)']\n",
    "x_train,x_test,y_train,y_test=train_test_split(x,y,test_size=0.25,random_state=111)\n",
    "print(x_train.shape)\n",
    "print(x_test.shape)\n",
    "print(y_train.shape)\n",
    "print(y_test.shape)"
   ]
  },
  {
   "cell_type": "code",
   "execution_count": 46,
   "metadata": {},
   "outputs": [
    {
     "name": "stdout",
     "output_type": "stream",
     "text": [
      "The final coefficient after training is:  [-0.19385668  0.13948575  0.73524416 -0.06388687  4.94525017  0.13870185\n",
      "  0.00937361]\n",
      "The final intercept after training is:  5.427497925291917\n"
     ]
    }
   ],
   "source": [
    "#train the model using linear regression\n",
    "\n",
    "lr=LinearRegression()\n",
    "lr.fit(x_train,y_train)\n",
    "print('The final coefficient after training is: ',lr.coef_)\n",
    "print('The final intercept after training is: ',lr.intercept_)"
   ]
  },
  {
   "cell_type": "code",
   "execution_count": 49,
   "metadata": {},
   "outputs": [
    {
     "name": "stdout",
     "output_type": "stream",
     "text": [
      "r2 score of our model is:  0.7220903208690853\n",
      "Mean absolute error of the mode is:  1.9603459791880382\n",
      "Mean squared error of our model is:  2.302652634576646\n"
     ]
    }
   ],
   "source": [
    "#Finally we evaluate the model by calculating the R2 score, Mean Absolute Error and Root Mean Squared Error\n",
    "\n",
    "y_pred = lr.predict(x_test)\n",
    "\n",
    "print(\"r2 score of our model is: \", r2_score(y_test,y_pred))\n",
    "print(\"Mean absolute error of the mode is: \",mean_absolute_error(y_test,y_pred))\n",
    "print('Mean squared error of our model is: ',mean_squared_error(y_test,y_pred,squared=False))"
   ]
  }
 ],
 "metadata": {
  "kernelspec": {
   "display_name": "Python 3.8.8 ('base')",
   "language": "python",
   "name": "python3"
  },
  "language_info": {
   "codemirror_mode": {
    "name": "ipython",
    "version": 3
   },
   "file_extension": ".py",
   "mimetype": "text/x-python",
   "name": "python",
   "nbconvert_exporter": "python",
   "pygments_lexer": "ipython3",
   "version": "3.8.8"
  },
  "orig_nbformat": 4,
  "vscode": {
   "interpreter": {
    "hash": "68876738994295ab6304aebe64d9bad1fb8d55dc975cf630fda1965ebb7e9563"
   }
  }
 },
 "nbformat": 4,
 "nbformat_minor": 2
}
